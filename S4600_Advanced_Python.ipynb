{
 "cells": [
  {
   "cell_type": "markdown",
   "metadata": {},
   "source": [
    "# Programmering for avancerede elever"
   ]
  },
  {
   "cell_type": "markdown",
   "metadata": {},
   "source": [
    "## 0. Introduktion\n",
    "\n",
    "Læs introduktionen meget omhyggeligt. Det tager kun 2 minutter.\n",
    "\n",
    "Du har arbejdet med S1- og S2-emnerne, og nu vil du gerne lære mere om programmering og Python?   \n",
    "Så er denne fil noget for dig. Her finder du en oversigt over yderligere materiale. Denne notebook har tre afsnit:  \n",
    "\n",
    "1. Hyppigt anvendte elementer og begreber i Python\n",
    "2. Avancerede koncepter for avancerede programmører\n",
    "3. Tips & Tricks\n",
    "\n",
    "Du finder i dette dokument ikke altid konkrete opgaver, som du skal løse, men typisk kun en overskrift, et lille kodeeksempel og nogle videre links.    \n",
    "De fleste af emnerne bygger ikke på hinanden.\n",
    "\n",
    "Hovedformålet med dette dokument er at du har hørt om de forskellige termer og koncepter og derfor er i stand til at læse mere om emnet, når du rent faktisk har brug for dem til et af dine projekter.\n",
    "\n",
    "Nogle foretrækker at se videoer, andre foretrækker at læse tekster for at lære noget. Derfor er der - så vidt muligt - både links til videoer og links til tekster for hvert emne.\n",
    "\n",
    "Hvis der er flere links til dokumentation eller vejledninger om et emne, behøver du ikke nødvendigvis at læse alle teksterne eller se alle videoer. Vælg et eller to links, der giver mest mening for dig. \n",
    "\n",
    "Som altid er du velkommen til at spørge din lærer, fx hvis du er i tvivl om en emnes betydning for dig eller når du går i stå på et tidspunkt.\n",
    "\n",
    "Kopier denne fil til din løsnings-repository, så du kan lege med kodeeksemplerne der."
   ]
  },
  {
   "cell_type": "markdown",
   "metadata": {},
   "source": [
    "## 1. Hyppigt anvendte elementer og begreber i Python"
   ]
  },
  {
   "cell_type": "markdown",
   "metadata": {},
   "source": [
    "### Inline If (Ternary Operator)"
   ]
  },
  {
   "cell_type": "markdown",
   "metadata": {},
   "source": [
    "Tester en betingelse i en enkelt linje, hvilket gør koden mere kompakt.  \n",
    "Meget praktisk i kombination med (list) comprehension.\n",
    "     \n",
    "- [Forklaring](https://www.geeksforgeeks.org/ternary-operator-in-python/)\n",
    "- [Video med forklaring](https://youtu.be/eA9nfBkfb2I?si=1Fym_RkLj1TILjcu&t=20)\n",
    "\n",
    "Brug højst en time på at læse forklaringen."
   ]
  },
  {
   "cell_type": "code",
   "metadata": {
    "ExecuteTime": {
     "end_time": "2024-10-24T09:43:12.243686500Z",
     "start_time": "2024-10-24T09:43:12.201783300Z"
    }
   },
   "source": [
    "# Eksempel:\n",
    "# Kør programmet og leg med koden \n",
    "q = \"a\" if 3 > 8 else \"b\"\n",
    "q"
   ],
   "outputs": [
    {
     "data": {
      "text/plain": "'b'"
     },
     "execution_count": 4,
     "metadata": {},
     "output_type": "execute_result"
    }
   ],
   "execution_count": 4
  },
  {
   "cell_type": "code",
   "metadata": {
    "collapsed": false,
    "ExecuteTime": {
     "end_time": "2024-10-24T11:29:04.428318800Z",
     "start_time": "2024-10-24T11:29:04.411889Z"
    }
   },
   "source": [
    "# Eksempel:\n",
    "# Kør programmet og leg med koden\n",
    "list_comprehension_with_1_if = [i * i if i > 5 else i for i in range(10)]\n",
    "list_comprehension_with_1_if"
   ],
   "outputs": [
    {
     "data": {
      "text/plain": "[0, 1, 2, 3, 4, 5, 36, 49, 64, 81]"
     },
     "execution_count": 5,
     "metadata": {},
     "output_type": "execute_result"
    }
   ],
   "execution_count": 5
  },
  {
   "cell_type": "code",
   "metadata": {
    "ExecuteTime": {
     "end_time": "2024-10-24T11:36:46.850672200Z",
     "start_time": "2024-10-24T11:36:46.781822200Z"
    }
   },
   "source": [
    "# Eksempel:\n",
    "# Kør programmet og leg med koden\n",
    "list_comprehension_with_2_if = [i * i if i > 5 else i for i in range(10) if i%2 == 0]\n",
    "list_comprehension_with_2_if"
   ],
   "outputs": [
    {
     "data": {
      "text/plain": "[0, 2, 4, 36, 64]"
     },
     "execution_count": 9,
     "metadata": {},
     "output_type": "execute_result"
    }
   ],
   "execution_count": 9
  },
  {
   "cell_type": "code",
   "metadata": {
    "collapsed": false,
    "ExecuteTime": {
     "end_time": "2024-10-28T10:01:22.770280300Z",
     "start_time": "2024-10-28T10:01:22.689310400Z"
    }
   },
   "source": [
    "# Opgave:\n",
    "# Ændr den følgende kode. Brug en inline if.\n",
    "# Programmets output skal være: [0, 3, 6, 9, 4, 15, 18, 21, 8, 27, 30, 33, 12, 39, 42, 45]\n",
    "\n",
    "example_list = [i * 3 if i%4 != 0 else i for i in range(16)]\n",
    "example_list\n"
   ],
   "outputs": [
    {
     "data": {
      "text/plain": "[0, 3, 6, 9, 4, 15, 18, 21, 8, 27, 30, 33, 12, 39, 42, 45]"
     },
     "execution_count": 3,
     "metadata": {},
     "output_type": "execute_result"
    }
   ],
   "execution_count": 3
  },
  {
   "cell_type": "markdown",
   "metadata": {},
   "source": [
    "\n",
    "### Comprehension"
   ]
  },
  {
   "cell_type": "markdown",
   "metadata": {},
   "source": [
    "En populær og elegant måde at definere en liste eller andre objekter på.   \n",
    "     \n",
    "- [Kort forklaring](https://www.w3schools.com/python/python_lists_comprehension.asp)   \n",
    "- [Video med forklaring](https://www.youtube.com/watch?v=3dt4OGnU5sM)\n",
    "- [Komplet forklaring](https://realpython.com/list-comprehension-python/)   \n",
    "- [God forklaring](https://towardsdatascience.com/a-guide-to-python-comprehensions-4d16af68c97e)\n",
    "- [Video med baggrundsviden: Hvorfor er list comprehension god or hvornår skal man bruge det og hvornår heller ikke.](https://www.youtube.com/watch?v=U88M8YbAzQk)\n",
    "\n",
    "Brug højst en time på at læse forklaringerne.\n",
    "\n",
    "Hvis du ikke husker hvad en dictionary/list/set er, så genopfrisk din viden her:\n",
    "- [Dictionary](https://www.w3schools.com/python/python_dictionaries.asp)\n",
    "- [List](https://www.w3schools.com/python/python_lists.asp)\n",
    "- [Set](https://www.w3schools.com/python/python_sets.asp)"
   ]
  },
  {
   "cell_type": "code",
   "metadata": {
    "ExecuteTime": {
     "end_time": "2024-10-28T12:29:23.348965200Z",
     "start_time": "2024-10-28T12:29:23.315981200Z"
    }
   },
   "source": [
    "# Eksempel:\n",
    "# Kør programmet og leg med koden\n",
    "dictionary_comprehension = {i: i * i for i in range(10)}\n",
    "list_comprehension = [i * i for i in range(10)]\n",
    "set_comprehension = {i%3 for i in range(10)}\n",
    "generator_comprehension = (2 * i + 5 for i in range(10))  # generators are explained later in this document. Tuple comprehension does not exist!\n",
    "print(f'{dictionary_comprehension = }')\n",
    "print(f'{list_comprehension = }')\n",
    "print(f'{set_comprehension = }')\n",
    "print(f'{generator_comprehension = }')"
   ],
   "outputs": [
    {
     "name": "stdout",
     "output_type": "stream",
     "text": [
      "dictionary_comprehension = {0: 0, 1: 1, 2: 4, 3: 9, 4: 16, 5: 25, 6: 36, 7: 49, 8: 64, 9: 81}\n",
      "list_comprehension = [0, 1, 4, 9, 16, 25, 36, 49, 64, 81]\n",
      "set_comprehension = {0, 1, 2}\n",
      "generator_comprehension = <generator object <genexpr> at 0x0000017055534040>\n"
     ]
    }
   ],
   "execution_count": 1
  },
  {
   "cell_type": "code",
   "metadata": {
    "collapsed": false,
    "ExecuteTime": {
     "end_time": "2024-10-28T13:34:27.661751500Z",
     "start_time": "2024-10-28T13:34:27.620371600Z"
    }
   },
   "source": [
    "# Eksempel:\n",
    "# Kør programmet og leg med koden\n",
    "list_comprehension_1 = [i * i for i in range(13) if i > 5]  # if statement controls for which values of i an element is added to the list\n",
    "print(f'{list_comprehension_1 = }')\n",
    "list_comprehension_2 = [i * i if i > 7 else i + 1000 for i in range(13) if i > 5]  # the first if statement (ternary if) controls what is added to the list (provided the second if statement is true)\n",
    "print(f'{list_comprehension_2 = }')"
   ],
   "outputs": [
    {
     "name": "stdout",
     "output_type": "stream",
     "text": [
      "list_comprehension_1 = [36, 49, 64, 81, 100, 121, 144]\n",
      "list_comprehension_2 = [1006, 1007, 64, 81, 100, 121, 144]\n"
     ]
    }
   ],
   "execution_count": 2
  },
  {
   "cell_type": "code",
   "metadata": {
    "collapsed": false,
    "ExecuteTime": {
     "end_time": "2024-10-28T13:54:26.414490400Z",
     "start_time": "2024-10-28T13:54:26.373775300Z"
    }
   },
   "source": [
    "# Opgave:\n",
    "# Skab denne liste med comprehension: [10, 15, 20, 25, 30, 35]\n",
    "# Skriv din kode her\n",
    "for n in range(6):\n",
    "    print(n*5)\n",
    "    \n",
    "list_comprehension = [i * 5 for i in range(8) if i > 1]\n",
    "list_comprehension"
   ],
   "outputs": [
    {
     "name": "stdout",
     "output_type": "stream",
     "text": [
      "0\n",
      "5\n",
      "10\n",
      "15\n",
      "20\n",
      "25\n"
     ]
    },
    {
     "data": {
      "text/plain": "[10, 15, 20, 25, 30, 35]"
     },
     "execution_count": 11,
     "metadata": {},
     "output_type": "execute_result"
    }
   ],
   "execution_count": 11
  },
  {
   "cell_type": "code",
   "metadata": {
    "collapsed": false,
    "ExecuteTime": {
     "end_time": "2024-10-31T10:52:00.948239900Z",
     "start_time": "2024-10-31T10:52:00.904632300Z"
    }
   },
   "source": [
    "# Opgave:\n",
    "# Skab denne liste med comprehension: [0, 1, 2, 3, 40, 41, 42, 43, 44, 45]\n",
    "# Brug \"if\" i din løsning!\n",
    "# Skriv din kode her\n",
    "\n",
    "list_comprehension = [i if i < 4 else i + 36 for i in range(10)]\n",
    "list_comprehension \n",
    "\n",
    "# Uelegant løsning uden ternary inline:\n",
    "# liste = []\n",
    "# for i in range(11):\n",
    "#     if i%4 != 0 or i == 0:\n",
    "#         if i < 5:\n",
    "#             liste.append(1 * i)\n",
    "#         else:\n",
    "#             liste.append(35 + i)\n",
    "# \n",
    "# liste\n",
    "\n",
    "# Opgave løst med traditionelt if-statement:\n",
    "# liste2 = []\n",
    "# for i in range(10):\n",
    "#     if i < 4:\n",
    "#         liste2.append(i)\n",
    "#     else:\n",
    "#         liste2.append(36 + i)\n",
    "#             \n",
    "# liste2"
   ],
   "outputs": [
    {
     "data": {
      "text/plain": "[0, 1, 2, 3, 40, 41, 42, 43, 44, 45]"
     },
     "execution_count": 26,
     "metadata": {},
     "output_type": "execute_result"
    }
   ],
   "execution_count": 26
  },
  {
   "cell_type": "code",
   "metadata": {
    "collapsed": false,
    "ExecuteTime": {
     "end_time": "2024-10-31T13:42:43.520190600Z",
     "start_time": "2024-10-31T13:42:43.494630700Z"
    }
   },
   "source": [
    "# Opgave:\n",
    "# Skab denne dictionary med comprehension: {3: 33, 4: 44, 5: 55, 6: 66}\n",
    "# Skriv din kode her\n",
    "\n",
    "dictionary_comprehension = {i: 11 * i for i in range(7) if i > 2}\n",
    "# dictionary_comprehension = {i: 11 * i for i in range(7) if i < 7 and i > 2}\n",
    "#dictionary_comprehension = {i: i * i for i in range(10)}\n",
    "dictionary_comprehension"
   ],
   "outputs": [
    {
     "data": {
      "text/plain": "{3: 33, 4: 44, 5: 55, 6: 66}"
     },
     "execution_count": 55,
     "metadata": {},
     "output_type": "execute_result"
    }
   ],
   "execution_count": 55
  },
  {
   "cell_type": "markdown",
   "metadata": {},
   "source": [
    "### Magic Methods (Dunder Methods)"
   ]
  },
  {
   "cell_type": "markdown",
   "metadata": {},
   "source": [
    "Magiske metoder i Python er de specielle metoder, der starter og slutter med dobbelt understregning.    \n",
    "De er ikke beregnet til at blive kaldt direkte af dig, men påkaldet sker internt fra klassen ved en bestemt handling.   \n",
    "Du kan med fordel selv tilpasse dem.\n",
    "\n",
    "Find ud af hvad magic methods er og får en overblik om hvilke findes:   \n",
    "- [God forklaring](https://www.tutorialsteacher.com/python/magic-methods-in-python)   \n",
    "- Alternativt kan du se denne [video](https://www.youtube.com/watch?v=KSiRzuSx120)\n",
    "- eller denne [video](https://www.youtube.com/watch?v=3ohzBxoFHAY)\n",
    "\n",
    "Brug højst en time på at læse forklaringen."
   ]
  },
  {
   "cell_type": "code",
   "metadata": {
    "collapsed": false,
    "ExecuteTime": {
     "end_time": "2024-11-19T09:54:11.968141Z",
     "start_time": "2024-11-19T09:54:11.920394500Z"
    }
   },
   "source": [
    "# Opgave:\n",
    "# Tilføj en magisk funktion til klassen Dog så \"huge_dog > tiny_dog\" interpreteres på en fornuftig måde.\n",
    "\n",
    "class Dog:\n",
    "    \n",
    "    def __init__(self, size):\n",
    "        self.size = size\n",
    "        \n",
    "    def __gt__(self, other):\n",
    "        return self.size > other.size\n",
    "        \n",
    "huge_dog = Dog(80)\n",
    "tiny_dog = Dog(25)\n",
    "\n",
    "# Uncomment this in order to test your solution!\n",
    "if huge_dog > tiny_dog:\n",
    "    print(\"You solved the exercise :)\")"
   ],
   "outputs": [
    {
     "name": "stdout",
     "output_type": "stream",
     "text": [
      "You solved the exercise :)\n"
     ]
    }
   ],
   "execution_count": 8
  },
  {
   "cell_type": "markdown",
   "metadata": {},
   "source": [
    "### Unpacking"
   ]
  },
  {
   "cell_type": "markdown",
   "metadata": {},
   "source": [
    "Super vigtig blandt andet for parameter unpacking (*args, **kwargs)      \n",
    "     \n",
    "- [God forklaring for parameter unpacking](https://realpython.com/python-kwargs-and-args/)    \n",
    "- [God forklaring for alle måder man kan bruge unpacking på](https://treyhunner.com/2018/10/asterisks-in-python-what-they-are-and-how-to-use-them/)\n",
    "- [Video med kort forklaring](https://www.youtube.com/watch?v=9LrtOJTnwJE)\n",
    "\n",
    "Brug højst en time på at læse forklaringerne."
   ]
  },
  {
   "cell_type": "code",
   "metadata": {
    "ExecuteTime": {
     "end_time": "2024-11-19T10:02:26.760184300Z",
     "start_time": "2024-11-19T10:02:26.728531100Z"
    }
   },
   "source": [
    "# Eksempel:\n",
    "# Kør programmet og leg med koden\n",
    "a, b, *c, d, e = (1, 2, 3, 4, 5, 6, 7, 8)  # *-Operator for unpacking (works for tuples and lists)\n",
    "print(f'{a=} {b=} {c=} {d=} {e=}')\n",
    "print(type(c))\n",
    "print(type(a))"
   ],
   "outputs": [
    {
     "name": "stdout",
     "output_type": "stream",
     "text": [
      "a=1 b=2 c=[3, 4, 5, 6] d=7 e=8\n",
      "<class 'list'>\n",
      "<class 'int'>\n"
     ]
    }
   ],
   "execution_count": 13
  },
  {
   "cell_type": "code",
   "metadata": {
    "collapsed": false,
    "ExecuteTime": {
     "end_time": "2024-11-20T10:12:44.575542900Z",
     "start_time": "2024-11-20T10:12:44.541001Z"
    }
   },
   "source": [
    "# Opgave:\n",
    "# Ændr programmet, så variablen result kun indeholder værdierne 4, 5, 6.\n",
    "def some_function():\n",
    "    return 1, 2, 3, 4, 5, 6, 7, 8\n",
    "\n",
    "_, _, _, *result, _, _ = some_function() \n",
    "result"
   ],
   "outputs": [
    {
     "data": {
      "text/plain": "[4, 5, 6]"
     },
     "execution_count": 1,
     "metadata": {},
     "output_type": "execute_result"
    }
   ],
   "execution_count": 1
  },
  {
   "cell_type": "markdown",
   "metadata": {},
   "source": [
    "### Tuple Declaration, Strings and Tuples as Iterators "
   ]
  },
  {
   "cell_type": "markdown",
   "metadata": {
    "collapsed": false
   },
   "source": [
    "Hvis du ikke husker hvad en tuple er, så genopfrisk din viden [her](https://www.w3schools.com/python/python_tuples.asp) eller se denne [video](https://youtu.be/w6hL_dszMxk?si=6BMzXLm5T5iNon_c&t=167).\n",
    "\n",
    "Brug højst en halv time på at læse forklaringen."
   ]
  },
  {
   "cell_type": "code",
   "metadata": {
    "ExecuteTime": {
     "end_time": "2024-11-20T10:38:25.765537400Z",
     "start_time": "2024-11-20T10:38:25.683384500Z"
    }
   },
   "source": [
    "# Eksempel:\n",
    "# Kør programmet og leg med koden\n",
    "a_string = \"abc\"   # string\n",
    "print(f\"{a_string=}     {type(a_string)=}\")\n",
    "a_tuple = (\"abc\", \"def\",)   # tuple  (kommaet er afgørende!)\n",
    "print(f\"{a_tuple=}     {type(a_tuple)=}\")\n",
    "also_a_string = (\"abc\")   # tuple  (kommaet er afgørende!)\n",
    "print(f\"{also_a_string=}     {type(also_a_string)=}\")\n",
    "print()\n",
    "\n",
    "for s in a_string:\n",
    "    print(\"String\", s)\n",
    "for t in a_tuple:\n",
    "    print(\"Tuple\", t)"
   ],
   "outputs": [
    {
     "name": "stdout",
     "output_type": "stream",
     "text": [
      "a_string='abc'     type(a_string)=<class 'str'>\n",
      "a_tuple=('abc', 'def')     type(a_tuple)=<class 'tuple'>\n",
      "also_a_string='abc'     type(also_a_string)=<class 'str'>\n",
      "\n",
      "String a\n",
      "String b\n",
      "String c\n",
      "Tuple abc\n",
      "Tuple def\n"
     ]
    }
   ],
   "execution_count": 7
  },
  {
   "cell_type": "code",
   "metadata": {
    "collapsed": false,
    "is_executing": true
   },
   "source": [
    "# Opgave:\n",
    "# Bare leg med ovenstående eksempelet"
   ],
   "outputs": [],
   "execution_count": null
  },
  {
   "cell_type": "markdown",
   "metadata": {},
   "source": [
    "### For Loop with 2 or more Iterators, Zip"
   ]
  },
  {
   "cell_type": "markdown",
   "metadata": {},
   "source": [
    "- [Kort forklaring](https://www.w3schools.com/python/ref_func_zip.asp)   \n",
    "- [Video med kort forklaring](https://www.youtube.com/watch?v=ALWe-tbrzQU)\n",
    "- [Video med en lidt mere teknisk og detaljeret forklaring](https://www.youtube.com/watch?v=Kn6GRtiY4eM)\n",
    "- [Komplet forklaring](https://realpython.com/python-zip-function/)\n",
    "\n",
    "Brug højst en time på at læse forklaringerne."
   ]
  },
  {
   "metadata": {
    "ExecuteTime": {
     "end_time": "2024-11-21T08:34:03.807866900Z",
     "start_time": "2024-11-21T08:34:03.795993300Z"
    }
   },
   "cell_type": "code",
   "source": [
    "# Eksempel:\n",
    "# Kør programmet og leg med koden\n",
    "some_tuples = [(\"a\", 13), (\"b\", 29), (\"c\", 36)]\n",
    "for t in some_tuples:\n",
    "    print(f\"One iterator, {t=}\")\n",
    "print()\n",
    "for i, j in some_tuples:\n",
    "    print(f\"Two iterators, {i=}, {j=}\")"
   ],
   "outputs": [
    {
     "name": "stdout",
     "output_type": "stream",
     "text": [
      "One iterator, t=('a', 13)\n",
      "One iterator, t=('b', 29)\n",
      "One iterator, t=('c', 36)\n",
      "\n",
      "Two iterators, i='a', j=13\n",
      "Two iterators, i='b', j=29\n",
      "Two iterators, i='c', j=36\n"
     ]
    }
   ],
   "execution_count": 8
  },
  {
   "cell_type": "code",
   "metadata": {
    "collapsed": false,
    "ExecuteTime": {
     "end_time": "2024-11-22T08:29:54.079902800Z",
     "start_time": "2024-11-22T08:29:53.978365400Z"
    }
   },
   "source": [
    "# Eksempel:\n",
    "# Kør programmet og leg med koden\n",
    "names = [\"Klaus\", \"Dorte\", \"Hans\"]\n",
    "ages= [18, 20, 15]\n",
    "zipped = zip(names, ages)\n",
    "print(f\"{zipped=}\")\n",
    "print(f\"{type(zipped)=}\")\n",
    "for item in zipped:\n",
    "    print(f\"{item=}   {type(item)=}\")"
   ],
   "outputs": [
    {
     "name": "stdout",
     "output_type": "stream",
     "text": [
      "zipped=<zip object at 0x000002165593BD40>\n",
      "type(zipped)=<class 'zip'>\n",
      "item=('Klaus', 18)   type(item)=<class 'tuple'>\n",
      "item=('Dorte', 20)   type(item)=<class 'tuple'>\n",
      "item=('Hans', 15)   type(item)=<class 'tuple'>\n"
     ]
    }
   ],
   "execution_count": 2
  },
  {
   "cell_type": "code",
   "metadata": {
    "ExecuteTime": {
     "end_time": "2024-11-21T08:46:22.008207500Z",
     "start_time": "2024-11-21T08:46:21.974393900Z"
    }
   },
   "source": [
    "# Eksempel:\n",
    "# Kør programmet og leg med koden\n",
    "for i, j, k in zip(range(4,23), \"abc\", [\"One\", \"Two\", \"Three\", \"Four\"]):\n",
    "    print(i, j, k, end=\"           \")"
   ],
   "outputs": [
    {
     "name": "stdout",
     "output_type": "stream",
     "text": [
      "4 a One           5 b Two           6 c Three           "
     ]
    }
   ],
   "execution_count": 12
  },
  {
   "cell_type": "code",
   "metadata": {
    "collapsed": false,
    "ExecuteTime": {
     "end_time": "2024-11-21T08:46:49.164198800Z",
     "start_time": "2024-11-21T08:46:49.113429300Z"
    }
   },
   "source": [
    "# Opgave:\n",
    "# Tilføj en for løkke med 2 iteratorer, som udprinter \"a 10   b 12   c 23   d 41\"\n",
    "letters = [\"a\", \"b\", \"c\", \"d\"]\n",
    "numbers = [10, 12, 23, 41, 56, 58]\n",
    "zipped = zip(letters, numbers)\n",
    "for i, j in zipped:\n",
    "    print(i, j, end=\"   \")"
   ],
   "outputs": [
    {
     "name": "stdout",
     "output_type": "stream",
     "text": [
      "a 10   b 12   c 23   d 41   "
     ]
    }
   ],
   "execution_count": 13
  },
  {
   "cell_type": "markdown",
   "metadata": {},
   "source": [
    "###  Lambda Functions (Example: sort class objects)"
   ]
  },
  {
   "cell_type": "markdown",
   "metadata": {},
   "source": [
    "Praktisk når du skal definere en meget kort funktion, som du bruger bare en gang.   \n",
    "Så kan du gør det indenfor den kodelinje, hvor du bruger funktionen.\n",
    "\n",
    "Kan benyttes hvis der forventes et funktionsobjekt (dvs. kun funktionsnavnet uden parenteser og uden parametre)    \n",
    "på et sted i programkoden, men man ønsker også at overføre funktionsparametre sammen med funktionsobjektet.    \n",
    "Eksempel: command-parameter af en tkinter-button.\n",
    "\n",
    "- [Kort forklaring](https://www.w3schools.com/python/python_lambda.asp)   \n",
    "- [Video med forklaring](https://www.youtube.com/watch?v=25ovCm9jKfA) \n",
    "- [Komplet forklaring](https://realpython.com/python-lambda/)\n",
    "\n",
    "Brug højst en time på at læse forklaringerne."
   ]
  },
  {
   "cell_type": "code",
   "metadata": {
    "ExecuteTime": {
     "end_time": "2024-11-22T10:59:59.697632500Z",
     "start_time": "2024-11-22T10:59:59.644027200Z"
    }
   },
   "source": [
    "# Eksempel:\n",
    "# Kør programmet og leg med koden\n",
    "class Dummy:\n",
    "    \n",
    "    def __init__(self, a_, b_):\n",
    "        self.a = a_\n",
    "        self.b = b_\n",
    "        \n",
    "    def __repr__(self):\n",
    "        return f\"{self.a=} {self.b=}\"\n",
    "        \n",
    "dummy1 = Dummy(999, 3)\n",
    "dummy2 = Dummy(777, 5)\n",
    "dmy3 = Dummy(222, 1)\n",
    "dummies = [dummy1, dummy2, dmy3]\n",
    "print(\"before sorting dummies:\", dummies)\n",
    "dummies.sort(key=lambda x: x.a, reverse=False)\n",
    "print(\"after sorting a:\", dummies)\n",
    "dummies.sort(key=lambda x: x.b, reverse=False)\n",
    "print(\"after sorting b:\", dummies)"
   ],
   "outputs": [
    {
     "name": "stdout",
     "output_type": "stream",
     "text": [
      "before sorting [self.a=999 self.b=3, self.a=777 self.b=5, self.a=222 self.b=1]\n",
      "after sorting a [self.a=222 self.b=1, self.a=777 self.b=5, self.a=999 self.b=3]\n",
      "after sorting b  [self.a=222 self.b=1, self.a=999 self.b=3, self.a=777 self.b=5]\n"
     ]
    }
   ],
   "execution_count": 38
  },
  {
   "cell_type": "code",
   "metadata": {
    "collapsed": false,
    "is_executing": true
   },
   "source": [
    "# Opgave:\n",
    "# Forklar hvad der sker i den følgende kodelinje.\n",
    "(lambda x: x * 3)(5)\n",
    "# værdien 5 bliver givet som input i funktionen og resultatet vil være 15. 5 Sættes ind på x'es plads (x er argumentet i denne lambda funktion). Funktonen er anonym (intet navn defineret)"
   ],
   "outputs": [],
   "execution_count": null
  },
  {
   "cell_type": "markdown",
   "metadata": {},
   "source": [
    "### Import (avanceret)"
   ]
  },
  {
   "cell_type": "markdown",
   "metadata": {},
   "source": [
    "[Video med introduktion til import](https://www.youtube.com/watch?v=XcfxkHrHTVE)\n",
    "[Python import: Advanced Techniques and Tips](https://realpython.com/python-import/)\n",
    "\n",
    "Få et overblik over, hvad du kan gøre med import.\n",
    "\n",
    "Find ud af, hvad forskellen er mellem et modul (module) og en pakke (package).\n",
    "\n",
    "Brug højst en time på at læse forklaringerne."
   ]
  },
  {
   "cell_type": "markdown",
   "metadata": {},
   "source": [
    "## 2. Avancerede koncepter for avancerede programmører"
   ]
  },
  {
   "cell_type": "markdown",
   "source": [
    "### Decorators"
   ],
   "metadata": {
    "collapsed": false
   }
  },
  {
   "cell_type": "markdown",
   "source": [
    "Decorators i Python er en måde at ændre eller udvide funktionaliteten af en funktion eller en klasse uden at ændre dens kildekode. \n",
    "De er funktioner, der tager en funktion eller en klasse som input og returnerer en modificeret version af denne funktion eller klasse.\n",
    "\n",
    "- [Meget kort video med den basale idé](https://www.youtube.com/watch?v=BE-L7xu8pO4)     \n",
    "\n",
    "Brug højst to timer på at læse/se forklaringerne."
   ],
   "metadata": {
    "collapsed": false
   }
  },
  {
   "cell_type": "markdown",
   "metadata": {},
   "source": [
    "### Generators"
   ]
  },
  {
   "cell_type": "markdown",
   "metadata": {},
   "source": [
    "En generatorfunktion er en særlig type funktion, der returnerer en doven iterator.    \n",
    "En iterator er et objekt, som du kan gennemløbe i en løkke, fx en liste.    \n",
    "En doven iterator gemmer kun sit senest genererede element i hukommelsen.     \n",
    "Det kan være meget nyttig, når man har mange elementer eller når elementerne er store.\n",
    "\n",
    "- [Super god video med forklaringer](https://www.youtube.com/watch?v=tmeKsb2Fras) (Forklaringerne er dog hurtigt og på et meget højt niveau. Brug dine pause og spol tilbage knapper meget!)     \n",
    "Dette gælder også for alle andre videoer fra denne fantastiske YouTube-kanal.\n",
    "- De første 6 minutter af denne [video](https://www.youtube.com/watch?v=bD05uGo_sVI) indeholder en langsommere forklaring.\n",
    "- [Udførlig forklaring](https://realpython.com/introduction-to-python-generators/)\n",
    "\n",
    "Brug højst to timer på at læse/se forklaringerne."
   ]
  },
  {
   "cell_type": "code",
   "metadata": {
    "ExecuteTime": {
     "end_time": "2024-11-22T09:55:49.471526300Z",
     "start_time": "2024-11-22T09:55:49.426395300Z"
    }
   },
   "source": [
    "# Eksempel:\n",
    "# Kør programmet og leg med koden\n",
    "def infinite_sequence():\n",
    "    num = 0\n",
    "    while True:\n",
    "        yield num\n",
    "        num += 1\n",
    "        \n",
    "gen = infinite_sequence()\n",
    "print(next(gen))\n",
    "print(next(gen))\n",
    "for some_iterator in [1, 2, 3]:  # original liste: [3, 12, 4]\n",
    "    print(\"in a for loop\", next(gen))"
   ],
   "outputs": [
    {
     "name": "stdout",
     "output_type": "stream",
     "text": [
      "0\n",
      "1\n",
      "in a for loop 2\n",
      "in a for loop 3\n",
      "in a for loop 4\n"
     ]
    }
   ],
   "execution_count": 13
  },
  {
   "cell_type": "markdown",
   "metadata": {},
   "source": [
    "### Asynchronous programming"
   ]
  },
  {
   "cell_type": "markdown",
   "metadata": {},
   "source": [
    "Asynkron programmering betyder, at man foretager anmodninger (requests) og ikke blokerer for at vente på, at de er færdige.    \n",
    "    \n",
    "- [Video med god introduktion til biblioteket asyncio](https://www.youtube.com/watch?v=ftmdDlwMwwQ) (Forklaringerne er meget gode men super hurtigt. Brug dine pause og spol tilbage knapper meget!)   \n",
    "- [God forklaring](https://superfastpython.com/python-asynchronous-programming/)    \n",
    "- [Udførlig forklaring](https://realpython.com/async-io-python/)\n",
    "\n",
    "Brug højst to timer på at læse/se forklaringerne.\n"
   ]
  },
  {
   "cell_type": "markdown",
   "metadata": {},
   "source": [
    "### Multiprocessing"
   ]
  },
  {
   "cell_type": "markdown",
   "metadata": {},
   "source": [
    "Multiprocessing giver mulighed for at udnytte flere processorer på en given maskine      \n",
    "fuldt ud ved at omgå den \"Global Interpreter Lock\".   \n",
    "\n",
    "- [Video med introduction to multiprocessing](https://www.youtube.com/watch?v=X7vBbelRXn0&t=356s) (Forklaringerne er meget gode men super hurtigt. Brug dine pause og spol tilbage knapper meget!)   \n",
    "- [Video om threading vs multiprocessing i python](https://www.youtube.com/watch?v=AZnGRKFUU0c)    \n",
    "- [God og komplet forklaring](https://superfastpython.com/multiprocessing-in-python/)    \n",
    "- [Officiel dokumentation](https://docs.python.org/3/library/multiprocessing.html)\n",
    "\n",
    "Brug højst to timer på at læse/se forklaringerne."
   ]
  },
  {
   "cell_type": "markdown",
   "metadata": {},
   "source": [
    "## 3. Tips & Tricks"
   ]
  },
  {
   "cell_type": "markdown",
   "metadata": {
    "collapsed": false
   },
   "source": [
    "### Working Directory\n",
    "\n",
    "Bare kør programmet og se hvad der sker."
   ]
  },
  {
   "cell_type": "code",
   "metadata": {
    "collapsed": false,
    "ExecuteTime": {
     "end_time": "2024-11-22T10:12:03.599797700Z",
     "start_time": "2024-11-22T10:12:03.529518Z"
    }
   },
   "source": [
    "# Eksempel:\n",
    "# Kør programmet og leg med koden\n",
    "import os\n",
    "current_dir = os.getcwd()  # What is the program's current directory?\n",
    "current_dir"
   ],
   "outputs": [
    {
     "data": {
      "text/plain": "'C:\\\\Users\\\\63993\\\\PycharmProjects\\\\Solutions'"
     },
     "execution_count": 14,
     "metadata": {},
     "output_type": "execute_result"
    }
   ],
   "execution_count": 14
  },
  {
   "cell_type": "markdown",
   "metadata": {
    "collapsed": false
   },
   "source": [
    "### Display image\n",
    "\n",
    "Bare kør programmet og se hvad der sker."
   ]
  },
  {
   "cell_type": "code",
   "metadata": {
    "collapsed": false,
    "ExecuteTime": {
     "end_time": "2024-11-22T10:31:16.499179500Z",
     "start_time": "2024-11-22T10:31:16.464215700Z"
    }
   },
   "source": [
    "# Eksempel:\n",
    "# Kør programmet og leg med koden\n",
    "from IPython.display import Image\n",
    "# Image(filename=\"../10_gui/images/gui_2010.png\")\n",
    "\n",
    "Image(filename=\"C:\\\\Users\\\\63993\\\\PycharmProjects\\\\Solutions\\\\10_gui\\\\images\\\\gui_2010.png\")"
   ],
   "outputs": [
    {
     "data": {
      "image/png": "[encoded data removed]",
      "text/plain": "<IPython.core.display.Image object>"
     },
     "execution_count": 29,
     "metadata": {},
     "output_type": "execute_result"
    }
   ],
   "execution_count": 29
  },
  {
   "cell_type": "markdown",
   "metadata": {},
   "source": [
    "### Time"
   ]
  },
  {
   "cell_type": "markdown",
   "metadata": {},
   "source": [
    "En eksempel hvordan man kan arbejde med tid i python.     \n",
    "    \n",
    "- [Kort forklaring](https://www.w3schools.com/python/python_datetime.asp)   \n",
    "- [Video md introduktion til biblioteket datetime](https://www.youtube.com/watch?v=RjMbCUpvIgw)\n",
    "- [Officiel dokumentation](https://docs.python.org/3/library/datetime.html)  \n",
    "\n",
    "Brug højst en time på at læse forklaringerne. "
   ]
  },
  {
   "cell_type": "code",
   "metadata": {
    "ExecuteTime": {
     "end_time": "2024-11-22T10:31:33.928172400Z",
     "start_time": "2024-11-22T10:31:33.893262200Z"
    }
   },
   "source": [
    "# Eksempel:\n",
    "# Kør programmet og leg med koden\n",
    "import time\n",
    "from datetime import datetime\n",
    "\n",
    "def time_stub():\n",
    "    now = time.time()\n",
    "    print(\"seconds since 01.01.1970: \", now)\n",
    "    readable = datetime.fromtimestamp(now, tz=None)\n",
    "    print(\"transform into readable format: \", readable)\n",
    "    \n",
    "time_stub()"
   ],
   "outputs": [
    {
     "name": "stdout",
     "output_type": "stream",
     "text": [
      "seconds since 01.01.1970:  1732271493.8932621\n",
      "transform into readable format:  2024-11-22 11:31:33.893262\n"
     ]
    }
   ],
   "execution_count": 30
  },
  {
   "cell_type": "markdown",
   "metadata": {},
   "source": [
    "### Profiling (performance optimization, runtime analysis)"
   ]
  },
  {
   "cell_type": "markdown",
   "metadata": {},
   "source": [
    "- [Kort forklaring](https://www.machinelearningplus.com/python/cprofile-how-to-profile-your-python-code/)   \n",
    "- [Officiel dokumentation](https://docs.python.org/3/library/profile.html)\n",
    "- [Video med meget god (men ikke super enkelt) forklaring](https://www.youtube.com/watch?v=m_a0fN48Alw)\n",
    "- [Video med forklaring](https://www.youtube.com/watch?v=qXLh5sZLpHE)\n",
    "\n",
    "Brug højst en halv time på at læse forklaringerne.\n",
    "Find ud af hvad den følgende programmets output betyder."
   ]
  },
  {
   "cell_type": "code",
   "metadata": {
    "is_executing": true
   },
   "source": [
    "# Eksempel:\n",
    "# Kør programmet og leg med koden\n",
    "import cProfile\n",
    "import pstats\n",
    "import math\n",
    "import numpy as np\n",
    "\n",
    "def test_np():\n",
    "    for i in range(88888):\n",
    "        _ = np.sqrt(i)*np.sin(i)  # naming a variable _ indicates this variable will not be used further on\n",
    "        \n",
    "def test_math():\n",
    "    for i in range(99999):\n",
    "        _ = math.sqrt(i)*math.sin(i)\n",
    "\n",
    "def test():\n",
    "    test_np()\n",
    "    test_math()\n",
    "\n",
    "\n",
    "with cProfile.Profile() as pr:\n",
    "    test()\n",
    "stats = pstats.Stats(pr)\n",
    "stats.sort_stats(pstats.SortKey.TIME)\n",
    "stats.print_stats()\n",
    "# stats.dump_stats(filename='needs_profiling.prof')"
   ],
   "outputs": [],
   "execution_count": null
  },
  {
   "cell_type": "markdown",
   "metadata": {
    "tags": []
   },
   "source": [
    "###  JSON"
   ]
  },
  {
   "cell_type": "markdown",
   "metadata": {
    "tags": []
   },
   "source": [
    "Hvordan læser og redigerer man JSON-filer?   \n",
    "    \n",
    "- [Kort forklaring](https://www.w3schools.com/python/python_json.asp)   \n",
    "- [God forklaring](https://realpython.com/python-json/)   \n",
    "- [Video med forklaring](https://www.youtube.com/watch?v=pTT7HMqDnJw)\n",
    "- [Officiel dokumentation](https://docs.python.org/3/library/json.html)\n",
    "\n",
    "Brug højst 1,5 timer på at læse forklaringerne.\n",
    "Find ud af hvordan det følgende program fungerer."
   ]
  },
  {
   "cell_type": "code",
   "metadata": {
    "is_executing": true
   },
   "source": [
    "# Eksempel:\n",
    "# Kør programmet og leg med koden\n",
    "import json\n",
    "import requests\n",
    "\n",
    "read_from_file = False\n",
    "def json_stub():\n",
    "    if read_from_file:\n",
    "        with open(\"insert_filename_here.json\", 'r') as f:\n",
    "            dic = json.loads(f.read())  # invoke json.loads() on the contents of the file, as opposed to the file path of that JSON\n",
    "        print(dic)\n",
    "    else:  # read from web\n",
    "        r = requests.get('https://jsonplaceholder.typicode.com/users')\n",
    "        print(r.json()[0])\n",
    "\n",
    "json_stub()"
   ],
   "outputs": [],
   "execution_count": null
  },
  {
   "cell_type": "markdown",
   "metadata": {},
   "source": [
    "### Colored text"
   ]
  },
  {
   "cell_type": "markdown",
   "metadata": {},
   "source": [
    "- [Forskellige måder at printe farvet tekst på](https://www.geeksforgeeks.org/print-colors-python-terminal/)\n",
    "- [Video med introduktion til bibliteket colorama](https://www.youtube.com/watch?v=u51Zjlnui4Y)\n",
    "\n",
    "Brug højst en halv time på at læse forklaringen.\n",
    "Find ud af hvordan det følgende program fungerer."
   ]
  },
  {
   "cell_type": "code",
   "metadata": {
    "ExecuteTime": {
     "end_time": "2024-11-22T10:18:29.995125200Z",
     "start_time": "2024-11-22T10:18:29.934126100Z"
    }
   },
   "source": [
    "# Eksempel:\n",
    "# Kør programmet og leg med koden\n",
    "Black, Red, Green, Yellow, Blue, Magenta, Cyan = \"\\u001b[30m\", \"\\u001b[31m\", \"\\u001b[32m\", \"\\u001b[33m\", \"\\u001b[34m\", \"\\u001b[35m\", \"\\u001b[36m\"\n",
    "BrightRed, BrightGreen, BrightYellow, BrightBlue, BrightMagenta, BrightCyan, BrightWhite = \"\\u001b[31;1m\", \"\\u001b[32;1m\", \"\\u001b[33;1m\", \"\\u001b[34;1m\", \"\\u001b[35;1m\", \"\\u001b[36;1m\", \"\\u001b[37;1m\"\n",
    "Reset = \"\\u001b[0m\"\n",
    "colors = [Black, Red, Green, Yellow, Blue, Magenta, Cyan, BrightRed, BrightGreen, BrightYellow, BrightBlue, BrightMagenta, BrightCyan, BrightWhite]\n",
    "for color in colors:\n",
    "    print(color + \"Hello\" + Reset +\" world\", end=\" \")\n"
   ],
   "outputs": [
    {
     "name": "stdout",
     "output_type": "stream",
     "text": [
      "\u001B[30mHello\u001B[0m world \u001B[31mHello\u001B[0m world \u001B[32mHello\u001B[0m world \u001B[33mHello\u001B[0m world \u001B[34mHello\u001B[0m world \u001B[35mHello\u001B[0m world \u001B[36mHello\u001B[0m world \u001B[31;1mHello\u001B[0m world \u001B[32;1mHello\u001B[0m world \u001B[33;1mHello\u001B[0m world \u001B[34;1mHello\u001B[0m world \u001B[35;1mHello\u001B[0m world \u001B[36;1mHello\u001B[0m world \u001B[37;1mHello\u001B[0m world "
     ]
    }
   ],
   "execution_count": 23
  },
  {
   "metadata": {},
   "cell_type": "markdown",
   "source": [
    "### F-string tricks, number representation"
   ]
  },
  {
   "metadata": {},
   "cell_type": "markdown",
   "source": [
    "- [Video om forskellige f-string tricks](https://www.youtube.com/watch?v=EoNOWVYKyo0)\n",
    "\n",
    "Brug højst en halv time på at se forklaringen.\n",
    "Find ud af hvordan de følgende programmer fungerer."
   ]
  },
  {
   "metadata": {
    "ExecuteTime": {
     "end_time": "2024-11-25T10:31:31.368837600Z",
     "start_time": "2024-11-25T10:31:31.336446900Z"
    }
   },
   "cell_type": "code",
   "source": [
    "# number presentation\n",
    "\n",
    "a = 1_000_000_000  # Underscores make huge numbers easier to read. Python ignores them.\n",
    "print(a, \"underscores do not get printed here\")\n",
    "print()\n",
    "\n",
    "b = 1234567\n",
    "print(f\"{b=:_}  f-strings can insert underscores for readability!\")\n",
    "print()\n",
    "\n",
    "c = 3.7e4  # scientific notation, means 3.7 * 10**4\n",
    "print(c, \"scientific notation creates floating point numbers (type float)\")\n",
    "print()\n",
    "\n",
    "d = 1234.5678\n",
    "print(f\"{d=:.1f} (1 decimal)\")\n",
    "print(f\"{d=:.3f} (3 decimals)\")\n",
    "print(f\"{d=:14.2f} (14 characters reserved space, rounded to 2 decimals\")"
   ],
   "outputs": [
    {
     "name": "stdout",
     "output_type": "stream",
     "text": [
      "1000000000 underscores do not get printed here\n",
      "\n",
      "b=1_234_567  f-strings can insert underscores for readability!\n",
      "\n",
      "37000.0 scientific notation creates floating point numbers (type float)\n",
      "\n",
      "d=1234.6 (1 decimal)\n",
      "d=1234.568 (3 decimals)\n",
      "d=       1234.57 (14 characters reserved space, rounded to 2 decimals\n"
     ]
    }
   ],
   "execution_count": 4
  },
  {
   "metadata": {
    "ExecuteTime": {
     "end_time": "2024-11-25T10:31:41.999966300Z",
     "start_time": "2024-11-25T10:31:41.986373300Z"
    }
   },
   "cell_type": "code",
   "source": [
    "# date presentation\n",
    "from datetime import datetime\n",
    "some_date = datetime.now()\n",
    "\n",
    "print(some_date, \"(unformatted datetime)\")\n",
    "print(f\"{some_date:%d.%m.%y  %H:%M:%S} (example for formatted datetime)\")  \n",
    "print(f\"{some_date:%c} (local time format)\")\n"
   ],
   "outputs": [
    {
     "name": "stdout",
     "output_type": "stream",
     "text": [
      "2024-11-25 11:31:41.985384 (unformatted datetime)\n",
      "25.11.24  11:31:41 (example for formatted datetime)\n",
      "Mon Nov 25 11:31:41 2024 (local time format)\n"
     ]
    }
   ],
   "execution_count": 5
  },
  {
   "metadata": {
    "ExecuteTime": {
     "end_time": "2024-11-25T10:33:17.310756400Z",
     "start_time": "2024-11-25T10:33:17.286787300Z"
    }
   },
   "cell_type": "code",
   "source": [
    "# alignment\n",
    "some_text = \"abcd\"\n",
    "\n",
    "print(f\"xxx {some_text:<40} yyy    (left aligned)\")\n",
    "print(f\"xxx {some_text:>40} yyy    (right aligned)\")\n",
    "print(f\"xxx {some_text:^40} yyy    (center aligned)\")\n",
    "print(f\"xxx {some_text:ø^40} yyy    (center aligned, with fill character 'ø')\")"
   ],
   "outputs": [
    {
     "name": "stdout",
     "output_type": "stream",
     "text": [
      "xxx abcd                                     yyy    (left aligned)\n",
      "xxx                                     abcd yyy    (right aligned)\n",
      "xxx                   abcd                   yyy    (center aligned)\n",
      "xxx øøøøøøøøøøøøøøøøøøabcdøøøøøøøøøøøøøøøøøø yyy    (center aligned, with fill character 'ø')\n"
     ]
    }
   ],
   "execution_count": 7
  },
  {
   "metadata": {},
   "cell_type": "markdown",
   "source": [
    "### Type hints, variable annotations"
   ]
  },
  {
   "metadata": {},
   "cell_type": "markdown",
   "source": [
    "- [God forklaring](https://betterdatascience.com/python-statically-typed/)\n",
    "\n",
    "Brug højst en halv time på at læse forklaringen."
   ]
  },
  {
   "cell_type": "code",
   "metadata": {
    "ExecuteTime": {
     "end_time": "2024-11-25T10:32:40.270253900Z",
     "start_time": "2024-11-25T10:32:40.224214500Z"
    }
   },
   "source": [
    "def some_function(boo: bool = False) -> None:  # type hints\n",
    "    print(boo)\n",
    "\n",
    "some_function(14)  # using the type hints, pycharm warns that this is the wrong type\n",
    "age: int = 32  # annotated variable\n",
    "print(age)"
   ],
   "outputs": [
    {
     "name": "stdout",
     "output_type": "stream",
     "text": [
      "14\n",
      "32\n"
     ]
    }
   ],
   "execution_count": 6
  },
  {
   "metadata": {},
   "cell_type": "code",
   "source": [],
   "outputs": [],
   "execution_count": null
  }
 ],
 "metadata": {
  "kernelspec": {
   "display_name": "Python 3 (ipykernel)",
   "language": "python",
   "name": "python3"
  },
  "language_info": {
   "codemirror_mode": {
    "name": "ipython",
    "version": 3
   },
   "file_extension": ".py",
   "mimetype": "text/x-python",
   "name": "python",
   "nbconvert_exporter": "python",
   "pygments_lexer": "ipython3",
   "version": "3.11.3"
  },
  "toc-autonumbering": false,
  "toc-showcode": false,
  "toc-showmarkdowntxt": false,
  "toc-showtags": false
 },
 "nbformat": 4,
 "nbformat_minor": 4
}
